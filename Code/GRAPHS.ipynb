{
 "cells": [
  {
   "cell_type": "code",
   "execution_count": 203,
   "metadata": {},
   "outputs": [],
   "source": [
    "import pandas as pd\n",
    "\n",
    "df = pd.read_csv(\"sentiment_tweets3.csv\")"
   ]
  },
  {
   "cell_type": "code",
   "execution_count": 204,
   "metadata": {},
   "outputs": [
    {
     "data": {
      "text/html": [
       "<div>\n",
       "<style scoped>\n",
       "    .dataframe tbody tr th:only-of-type {\n",
       "        vertical-align: middle;\n",
       "    }\n",
       "\n",
       "    .dataframe tbody tr th {\n",
       "        vertical-align: top;\n",
       "    }\n",
       "\n",
       "    .dataframe thead th {\n",
       "        text-align: right;\n",
       "    }\n",
       "</style>\n",
       "<table border=\"1\" class=\"dataframe\">\n",
       "  <thead>\n",
       "    <tr style=\"text-align: right;\">\n",
       "      <th></th>\n",
       "      <th>Index</th>\n",
       "      <th>message to examine</th>\n",
       "      <th>label (depression result)</th>\n",
       "    </tr>\n",
       "  </thead>\n",
       "  <tbody>\n",
       "    <tr>\n",
       "      <th>0</th>\n",
       "      <td>106</td>\n",
       "      <td>just had a real good moment. i missssssssss hi...</td>\n",
       "      <td>0</td>\n",
       "    </tr>\n",
       "    <tr>\n",
       "      <th>1</th>\n",
       "      <td>217</td>\n",
       "      <td>is reading manga  http://plurk.com/p/mzp1e</td>\n",
       "      <td>0</td>\n",
       "    </tr>\n",
       "    <tr>\n",
       "      <th>2</th>\n",
       "      <td>220</td>\n",
       "      <td>@comeagainjen http://twitpic.com/2y2lx - http:...</td>\n",
       "      <td>0</td>\n",
       "    </tr>\n",
       "    <tr>\n",
       "      <th>3</th>\n",
       "      <td>288</td>\n",
       "      <td>@lapcat Need to send 'em to my accountant tomo...</td>\n",
       "      <td>0</td>\n",
       "    </tr>\n",
       "    <tr>\n",
       "      <th>4</th>\n",
       "      <td>540</td>\n",
       "      <td>ADD ME ON MYSPACE!!!  myspace.com/LookThunder</td>\n",
       "      <td>0</td>\n",
       "    </tr>\n",
       "  </tbody>\n",
       "</table>\n",
       "</div>"
      ],
      "text/plain": [
       "   Index                                 message to examine  \\\n",
       "0    106  just had a real good moment. i missssssssss hi...   \n",
       "1    217         is reading manga  http://plurk.com/p/mzp1e   \n",
       "2    220  @comeagainjen http://twitpic.com/2y2lx - http:...   \n",
       "3    288  @lapcat Need to send 'em to my accountant tomo...   \n",
       "4    540      ADD ME ON MYSPACE!!!  myspace.com/LookThunder   \n",
       "\n",
       "   label (depression result)  \n",
       "0                          0  \n",
       "1                          0  \n",
       "2                          0  \n",
       "3                          0  \n",
       "4                          0  "
      ]
     },
     "execution_count": 204,
     "metadata": {},
     "output_type": "execute_result"
    }
   ],
   "source": [
    "df.head()"
   ]
  },
  {
   "cell_type": "code",
   "execution_count": 205,
   "metadata": {},
   "outputs": [],
   "source": [
    "tweets = df[[\"message to examine\",\"label (depression result)\"]]"
   ]
  },
  {
   "cell_type": "code",
   "execution_count": 206,
   "metadata": {},
   "outputs": [
    {
     "name": "stdout",
     "output_type": "stream",
     "text": [
      "0\n"
     ]
    }
   ],
   "source": [
    "print(tweets[\"label (depression result)\"][0])"
   ]
  },
  {
   "cell_type": "code",
   "execution_count": 207,
   "metadata": {},
   "outputs": [
    {
     "data": {
      "text/plain": [
       "0        0\n",
       "1        0\n",
       "2        0\n",
       "3        0\n",
       "4        0\n",
       "        ..\n",
       "10309    1\n",
       "10310    1\n",
       "10311    1\n",
       "10312    1\n",
       "10313    1\n",
       "Name: label (depression result), Length: 10314, dtype: int64"
      ]
     },
     "execution_count": 207,
     "metadata": {},
     "output_type": "execute_result"
    }
   ],
   "source": [
    "tweets[\"label (depression result)\"].apply(lambda x: int(x))"
   ]
  },
  {
   "cell_type": "code",
   "execution_count": 208,
   "metadata": {},
   "outputs": [],
   "source": [
    "tweets_positive = tweets[tweets[\"label (depression result)\"]==1]\n",
    "tweets_negative = tweets[tweets[\"label (depression result)\"]==0]"
   ]
  },
  {
   "cell_type": "code",
   "execution_count": 209,
   "metadata": {},
   "outputs": [
    {
     "name": "stdout",
     "output_type": "stream",
     "text": [
      "2314\n"
     ]
    }
   ],
   "source": [
    "print(len(tweets_positive))"
   ]
  },
  {
   "cell_type": "code",
   "execution_count": 210,
   "metadata": {},
   "outputs": [
    {
     "name": "stdout",
     "output_type": "stream",
     "text": [
      "8000\n"
     ]
    }
   ],
   "source": [
    "print(len(tweets_negative))"
   ]
  },
  {
   "cell_type": "code",
   "execution_count": 211,
   "metadata": {},
   "outputs": [],
   "source": [
    "import preprocess_kgptalkie as ps\n",
    "import re"
   ]
  },
  {
   "cell_type": "code",
   "execution_count": 212,
   "metadata": {},
   "outputs": [],
   "source": [
    "def get_clean(x):\n",
    "    x = str(x).lower().replace('\\\\', '').replace('_', ' ')\n",
    "    x = ps.cont_exp(x)\n",
    "    x = ps.remove_emails(x)\n",
    "    x = ps.remove_urls(x)\n",
    "    x = ps.remove_html_tags(x)\n",
    "    x = ps.remove_rt(x)\n",
    "    x = ps.remove_accented_chars(x)\n",
    "    x = ps.remove_special_chars(x)\n",
    "    x = re.sub(\"(.)\\\\1{2,}\", \"\\\\1\", x)\n",
    "    return x"
   ]
  },
  {
   "cell_type": "code",
   "execution_count": 223,
   "metadata": {},
   "outputs": [],
   "source": [
    "tweets_positive[\"message to examine\"] = tweets_positive[\"message to examine\"].apply(lambda x: get_clean(x))\n",
    "tweets_negative[\"message to examine\"] = tweets_negative[\"message to examine\"].apply(lambda x: get_clean(x))"
   ]
  },
  {
   "cell_type": "code",
   "execution_count": 224,
   "metadata": {},
   "outputs": [],
   "source": [
    "import spacy\n",
    "import en_core_web_lg\n",
    "nlp = en_core_web_lg.load()"
   ]
  },
  {
   "cell_type": "code",
   "execution_count": 225,
   "metadata": {},
   "outputs": [],
   "source": [
    "def get_vec(x):\n",
    "    doc = nlp(x)\n",
    "    l = doc.vector\n",
    "    return l"
   ]
  },
  {
   "cell_type": "code",
   "execution_count": 227,
   "metadata": {},
   "outputs": [],
   "source": [
    "tweets_positive[\"vec\"]= tweets_positive[\"message to examine\"].apply(lambda x: get_vec(x))\n",
    "tweets_negative[\"vec\"]= tweets_negative[\"message to examine\"].apply(lambda x: get_vec(x))"
   ]
  },
  {
   "cell_type": "code",
   "execution_count": 320,
   "metadata": {},
   "outputs": [],
   "source": [
    "vis_data = pd.concat([tweets_positive[0:6],tweets_negative[5:20]])"
   ]
  },
  {
   "cell_type": "code",
   "execution_count": 321,
   "metadata": {},
   "outputs": [
    {
     "data": {
      "text/html": [
       "<div>\n",
       "<style scoped>\n",
       "    .dataframe tbody tr th:only-of-type {\n",
       "        vertical-align: middle;\n",
       "    }\n",
       "\n",
       "    .dataframe tbody tr th {\n",
       "        vertical-align: top;\n",
       "    }\n",
       "\n",
       "    .dataframe thead th {\n",
       "        text-align: right;\n",
       "    }\n",
       "</style>\n",
       "<table border=\"1\" class=\"dataframe\">\n",
       "  <thead>\n",
       "    <tr style=\"text-align: right;\">\n",
       "      <th></th>\n",
       "      <th>message to examine</th>\n",
       "      <th>label (depression result)</th>\n",
       "      <th>vec</th>\n",
       "    </tr>\n",
       "  </thead>\n",
       "  <tbody>\n",
       "    <tr>\n",
       "      <th>8000</th>\n",
       "      <td>the lack of this understanding is a small but ...</td>\n",
       "      <td>1</td>\n",
       "      <td>[-0.03867774, 0.23430629, -0.17567559, 0.00380...</td>\n",
       "    </tr>\n",
       "    <tr>\n",
       "      <th>8001</th>\n",
       "      <td>i just told my parents about my depression and...</td>\n",
       "      <td>1</td>\n",
       "      <td>[-0.021896234, 0.2310594, -0.26400685, -0.0269...</td>\n",
       "    </tr>\n",
       "    <tr>\n",
       "      <th>8002</th>\n",
       "      <td>depression is something i do not speak about e...</td>\n",
       "      <td>1</td>\n",
       "      <td>[-0.09944324, 0.1876139, -0.2644123, -0.116623...</td>\n",
       "    </tr>\n",
       "    <tr>\n",
       "      <th>8003</th>\n",
       "      <td>made myself a tortilla filled with pbj my depr...</td>\n",
       "      <td>1</td>\n",
       "      <td>[0.04489332, 0.056927957, -0.062049057, 0.0950...</td>\n",
       "    </tr>\n",
       "    <tr>\n",
       "      <th>8004</th>\n",
       "      <td>worldofoutlaws i am gonna need depression meds...</td>\n",
       "      <td>1</td>\n",
       "      <td>[-0.01622743, 0.1050395, -0.21156085, -0.01605...</td>\n",
       "    </tr>\n",
       "    <tr>\n",
       "      <th>8005</th>\n",
       "      <td>my anxiety and my depression fighting over who...</td>\n",
       "      <td>1</td>\n",
       "      <td>[-0.13449192, 0.2562298, -0.094564065, 0.06617...</td>\n",
       "    </tr>\n",
       "    <tr>\n",
       "      <th>5</th>\n",
       "      <td>so sleepy good times tonight though</td>\n",
       "      <td>0</td>\n",
       "      <td>[0.0025256623, 0.25395435, -0.30452, -0.186252...</td>\n",
       "    </tr>\n",
       "    <tr>\n",
       "      <th>6</th>\n",
       "      <td>silkcharm re nbn as someone already said does ...</td>\n",
       "      <td>0</td>\n",
       "      <td>[-0.002803064, 0.14912254, -0.17270069, -0.044...</td>\n",
       "    </tr>\n",
       "    <tr>\n",
       "      <th>7</th>\n",
       "      <td>23 or 24i12c possible today nice</td>\n",
       "      <td>0</td>\n",
       "      <td>[-0.148534, 0.28846383, -0.089124165, 0.059416...</td>\n",
       "    </tr>\n",
       "    <tr>\n",
       "      <th>8</th>\n",
       "      <td>nite twitterville workout in the am ciao</td>\n",
       "      <td>0</td>\n",
       "      <td>[0.050872426, 0.23470214, -0.080447145, -0.045...</td>\n",
       "    </tr>\n",
       "    <tr>\n",
       "      <th>9</th>\n",
       "      <td>dananner night darlin sweet dreams to you</td>\n",
       "      <td>0</td>\n",
       "      <td>[0.10955858, 0.20170741, -0.22900428, -0.01738...</td>\n",
       "    </tr>\n",
       "    <tr>\n",
       "      <th>10</th>\n",
       "      <td>good morning everybody</td>\n",
       "      <td>0</td>\n",
       "      <td>[-0.15348333, 0.39662996, -0.28868333, 0.02634...</td>\n",
       "    </tr>\n",
       "    <tr>\n",
       "      <th>11</th>\n",
       "      <td>finally i just created my wordpress blog there...</td>\n",
       "      <td>0</td>\n",
       "      <td>[0.06579404, 0.20545551, -0.19490092, -0.00321...</td>\n",
       "    </tr>\n",
       "    <tr>\n",
       "      <th>12</th>\n",
       "      <td>kisha they cnt get over you today i learned th...</td>\n",
       "      <td>0</td>\n",
       "      <td>[-0.0619937, 0.1602853, -0.18141541, -0.068549...</td>\n",
       "    </tr>\n",
       "    <tr>\n",
       "      <th>13</th>\n",
       "      <td>nicolerichie yes i remember that band it was a...</td>\n",
       "      <td>0</td>\n",
       "      <td>[-0.038566165, 0.27816632, -0.25518, -0.146860...</td>\n",
       "    </tr>\n",
       "    <tr>\n",
       "      <th>14</th>\n",
       "      <td>i really love reflections and shadows</td>\n",
       "      <td>0</td>\n",
       "      <td>[0.019052079, 0.21125133, -0.287705, -0.134086...</td>\n",
       "    </tr>\n",
       "    <tr>\n",
       "      <th>15</th>\n",
       "      <td>blueaero o it is fantasy i like fantasy novels...</td>\n",
       "      <td>0</td>\n",
       "      <td>[0.006658693, 0.083441846, -0.19992034, -0.128...</td>\n",
       "    </tr>\n",
       "    <tr>\n",
       "      <th>16</th>\n",
       "      <td>rokchic28 no probs i sell nothing other than m...</td>\n",
       "      <td>0</td>\n",
       "      <td>[-0.02256791, 0.20465317, -0.32225937, 0.00341...</td>\n",
       "    </tr>\n",
       "    <tr>\n",
       "      <th>17</th>\n",
       "      <td>shipovalov nokla connecting people</td>\n",
       "      <td>0</td>\n",
       "      <td>[0.31566, -0.02788, -0.2429675, -0.066685, 0.0...</td>\n",
       "    </tr>\n",
       "    <tr>\n",
       "      <th>18</th>\n",
       "      <td>once again stayed up to late and have to start...</td>\n",
       "      <td>0</td>\n",
       "      <td>[0.045308907, 0.2095952, -0.23686531, -0.05234...</td>\n",
       "    </tr>\n",
       "    <tr>\n",
       "      <th>19</th>\n",
       "      <td>kal penn i just read about your new job congra...</td>\n",
       "      <td>0</td>\n",
       "      <td>[-0.051496003, 0.25707963, -0.2120329, -0.0838...</td>\n",
       "    </tr>\n",
       "  </tbody>\n",
       "</table>\n",
       "</div>"
      ],
      "text/plain": [
       "                                     message to examine  \\\n",
       "8000  the lack of this understanding is a small but ...   \n",
       "8001  i just told my parents about my depression and...   \n",
       "8002  depression is something i do not speak about e...   \n",
       "8003  made myself a tortilla filled with pbj my depr...   \n",
       "8004  worldofoutlaws i am gonna need depression meds...   \n",
       "8005  my anxiety and my depression fighting over who...   \n",
       "5                   so sleepy good times tonight though   \n",
       "6     silkcharm re nbn as someone already said does ...   \n",
       "7                      23 or 24i12c possible today nice   \n",
       "8              nite twitterville workout in the am ciao   \n",
       "9             dananner night darlin sweet dreams to you   \n",
       "10                               good morning everybody   \n",
       "11    finally i just created my wordpress blog there...   \n",
       "12    kisha they cnt get over you today i learned th...   \n",
       "13    nicolerichie yes i remember that band it was a...   \n",
       "14                i really love reflections and shadows   \n",
       "15    blueaero o it is fantasy i like fantasy novels...   \n",
       "16    rokchic28 no probs i sell nothing other than m...   \n",
       "17                   shipovalov nokla connecting people   \n",
       "18    once again stayed up to late and have to start...   \n",
       "19    kal penn i just read about your new job congra...   \n",
       "\n",
       "      label (depression result)  \\\n",
       "8000                          1   \n",
       "8001                          1   \n",
       "8002                          1   \n",
       "8003                          1   \n",
       "8004                          1   \n",
       "8005                          1   \n",
       "5                             0   \n",
       "6                             0   \n",
       "7                             0   \n",
       "8                             0   \n",
       "9                             0   \n",
       "10                            0   \n",
       "11                            0   \n",
       "12                            0   \n",
       "13                            0   \n",
       "14                            0   \n",
       "15                            0   \n",
       "16                            0   \n",
       "17                            0   \n",
       "18                            0   \n",
       "19                            0   \n",
       "\n",
       "                                                    vec  \n",
       "8000  [-0.03867774, 0.23430629, -0.17567559, 0.00380...  \n",
       "8001  [-0.021896234, 0.2310594, -0.26400685, -0.0269...  \n",
       "8002  [-0.09944324, 0.1876139, -0.2644123, -0.116623...  \n",
       "8003  [0.04489332, 0.056927957, -0.062049057, 0.0950...  \n",
       "8004  [-0.01622743, 0.1050395, -0.21156085, -0.01605...  \n",
       "8005  [-0.13449192, 0.2562298, -0.094564065, 0.06617...  \n",
       "5     [0.0025256623, 0.25395435, -0.30452, -0.186252...  \n",
       "6     [-0.002803064, 0.14912254, -0.17270069, -0.044...  \n",
       "7     [-0.148534, 0.28846383, -0.089124165, 0.059416...  \n",
       "8     [0.050872426, 0.23470214, -0.080447145, -0.045...  \n",
       "9     [0.10955858, 0.20170741, -0.22900428, -0.01738...  \n",
       "10    [-0.15348333, 0.39662996, -0.28868333, 0.02634...  \n",
       "11    [0.06579404, 0.20545551, -0.19490092, -0.00321...  \n",
       "12    [-0.0619937, 0.1602853, -0.18141541, -0.068549...  \n",
       "13    [-0.038566165, 0.27816632, -0.25518, -0.146860...  \n",
       "14    [0.019052079, 0.21125133, -0.287705, -0.134086...  \n",
       "15    [0.006658693, 0.083441846, -0.19992034, -0.128...  \n",
       "16    [-0.02256791, 0.20465317, -0.32225937, 0.00341...  \n",
       "17    [0.31566, -0.02788, -0.2429675, -0.066685, 0.0...  \n",
       "18    [0.045308907, 0.2095952, -0.23686531, -0.05234...  \n",
       "19    [-0.051496003, 0.25707963, -0.2120329, -0.0838...  "
      ]
     },
     "execution_count": 321,
     "metadata": {},
     "output_type": "execute_result"
    }
   ],
   "source": [
    "vis_data"
   ]
  },
  {
   "cell_type": "code",
   "execution_count": 322,
   "metadata": {},
   "outputs": [],
   "source": [
    "from sklearn.metrics.pairwise import cosine_similarity\n",
    "import numpy as np"
   ]
  },
  {
   "cell_type": "code",
   "execution_count": 323,
   "metadata": {},
   "outputs": [],
   "source": [
    "X = np.array(cosine_similarity(vis_data[\"vec\"].tolist()))"
   ]
  },
  {
   "cell_type": "code",
   "execution_count": null,
   "metadata": {},
   "outputs": [],
   "source": [
    "print(X)"
   ]
  },
  {
   "cell_type": "code",
   "execution_count": 325,
   "metadata": {},
   "outputs": [],
   "source": [
    "import networkx as nx\n",
    "import matplotlib.pyplot as plt"
   ]
  },
  {
   "cell_type": "code",
   "execution_count": 326,
   "metadata": {},
   "outputs": [],
   "source": [
    "G = nx.Graph()\n",
    "for i in range(len(X)):\n",
    "    for j in range(i+1,len(X)):\n",
    "        G.add_edge(i,j,weight=X[i,j])\n",
    "elarge = [(u, v) for (u, v, d) in G.edges(data=True) if d[\"weight\"] > 0.5]\n",
    "esmall = [(u, v) for (u, v, d) in G.edges(data=True) if d[\"weight\"] <= 0.5]"
   ]
  },
  {
   "cell_type": "code",
   "execution_count": 328,
   "metadata": {},
   "outputs": [
    {
     "data": {
      "image/png": "[encoded data removed]",
      "text/plain": [
       "<Figure size 432x288 with 1 Axes>"
      ]
     },
     "metadata": {},
     "output_type": "display_data"
    }
   ],
   "source": [
    "\n",
    "pos = nx.spring_layout(G, seed=7)\n",
    "nx.draw_networkx_nodes(G, pos, node_size=700)\n",
    "nx.draw_networkx_edges(G, pos, edgelist=elarge, width=3)\n",
    "nx.draw_networkx_edges(\n",
    "    G, pos, edgelist=esmall, width=2, alpha=0.5, edge_color=\"b\", style=\"dashed\"\n",
    ")\n",
    "nx.draw_networkx_labels(G, pos, font_size=20, font_family=\"sans-serif\")\n",
    "ax = plt.gca()\n",
    "ax.margins(0.08)\n",
    "plt.axis(\"off\")\n",
    "plt.tight_layout()\n",
    "plt.show()"
   ]
  },
  {
   "cell_type": "code",
   "execution_count": 334,
   "metadata": {},
   "outputs": [
    {
     "name": "stdout",
     "output_type": "stream",
     "text": [
      "{'weight': 0.61950636}\n"
     ]
    }
   ],
   "source": [
    "print(G.get_edge_data(0,9))"
   ]
  },
  {
   "cell_type": "code",
   "execution_count": null,
   "metadata": {},
   "outputs": [],
   "source": []
  },
  {
   "cell_type": "code",
   "execution_count": null,
   "metadata": {},
   "outputs": [],
   "source": []
  }
 ],
 "metadata": {
  "kernelspec": {
   "display_name": "Python 3 (ipykernel)",
   "language": "python",
   "name": "python3"
  },
  "language_info": {
   "codemirror_mode": {
    "name": "ipython",
    "version": 3
   },
   "file_extension": ".py",
   "mimetype": "text/x-python",
   "name": "python",
   "nbconvert_exporter": "python",
   "pygments_lexer": "ipython3",
   "version": "3.8.3"
  }
 },
 "nbformat": 4,
 "nbformat_minor": 4
}
